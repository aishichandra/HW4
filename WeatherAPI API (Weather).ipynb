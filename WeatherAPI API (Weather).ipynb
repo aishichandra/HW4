{
 "cells": [
  {
   "cell_type": "markdown",
   "metadata": {},
   "source": [
    "# WeatherAPI (Weather)\n",
    "\n",
    "Answer the following questions using [WeatherAPI](http://www.weatherapi.com/). I've added three cells for most questions but you're free to use more or less! Hold `Shift` and hit `Enter` to run a cell, and use the `+` on the top left to add a new cell to a notebook.\n",
    "\n",
    "Be sure to take advantage of both the documentation and the API Explorer!\n",
    "\n",
    "## 0) Import any libraries you might need\n",
    "\n",
    "- *Tip: We're going to be downloading things from the internet, so we probably need `requests`.*\n",
    "- *Tip: Remember you only need to import requests once!*"
   ]
  },
  {
   "cell_type": "code",
   "execution_count": 1,
   "metadata": {},
   "outputs": [],
   "source": [
    "import requests"
   ]
  },
  {
   "cell_type": "markdown",
   "metadata": {
    "collapsed": true
   },
   "source": [
    "## 1) Make a request to the Weather API for where you were born (or lived, or want to visit!).\n",
    "\n",
    "- *Tip: The URL we used in class was for a place near San Francisco. What was the format of the endpoint that made this happen?*\n",
    "- *Tip: Save the URL as a separate variable, and be sure to not have `[` and `]` inside.*\n",
    "- *Tip: How is north vs. south and east vs. west latitude/longitude represented? Is it the normal North/South/East/West?*\n",
    "- *Tip: You know it's JSON, but Python doesn't! Make sure you aren't trying to deal with plain text.* \n",
    "- *Tip: Once you've imported the JSON into a variable, check the timezone's name to make sure it seems like it got the right part of the world!*"
   ]
  },
  {
   "cell_type": "code",
   "execution_count": 2,
   "metadata": {},
   "outputs": [],
   "source": [
    "weather_response = requests.get(\"http://api.weatherapi.com/v1/current.json?key=016c7fff8afd4cd8847205826221306&q=chennai&aqi=no\")\n",
    "weather_data = weather_response.json()\n"
   ]
  },
  {
   "cell_type": "code",
   "execution_count": 36,
   "metadata": {
    "scrolled": true
   },
   "outputs": [],
   "source": [
    "#weather_data"
   ]
  },
  {
   "cell_type": "markdown",
   "metadata": {},
   "source": [
    "## 2) What's the current wind speed? How much warmer does it feel than it actually is?\n",
    "\n",
    "- *Tip: You can do this by browsing through the dictionaries, but it might be easier to read the documentation*\n",
    "- *Tip: For the second half: it **is** one temperature, and it **feels** a different temperature. Calculate the difference.*"
   ]
  },
  {
   "cell_type": "code",
   "execution_count": 4,
   "metadata": {},
   "outputs": [
    {
     "name": "stdout",
     "output_type": "stream",
     "text": [
      "The current_wind_speed is 9.4\n"
     ]
    }
   ],
   "source": [
    "current_wind_speed = weather_data['current']['wind_mph'] \n",
    "print(\"The current_wind_speed is\", current_wind_speed)"
   ]
  },
  {
   "cell_type": "code",
   "execution_count": 5,
   "metadata": {},
   "outputs": [],
   "source": [
    "current_temperature_actual = weather_data['current']['temp_f'] \n",
    "current_temperature_feellike = weather_data['current']['feelslike_f'] "
   ]
  },
  {
   "cell_type": "code",
   "execution_count": 6,
   "metadata": {},
   "outputs": [
    {
     "name": "stdout",
     "output_type": "stream",
     "text": [
      "It feels 12.0 degrees warmer\n"
     ]
    }
   ],
   "source": [
    "warmer_by = current_temperature_feellike - current_temperature_actual\n",
    "print(\"It feels\", warmer_by, \"degrees warmer\")"
   ]
  },
  {
   "cell_type": "markdown",
   "metadata": {},
   "source": [
    "## 3) What is the API endpoint for moon-related information? For the place you decided on above, how much of the moon will be visible tomorrow?\n",
    "\n",
    "- *Tip: Check the documentation!*\n",
    "- *Tip: If you aren't sure what something means, ask in Slack*"
   ]
  },
  {
   "cell_type": "code",
   "execution_count": 7,
   "metadata": {},
   "outputs": [],
   "source": [
    "forecast_endpoint = requests.get(\"http://api.weatherapi.com/v1/forecast.json?key=016c7fff8afd4cd8847205826221306&q=Chennai&days=3&aqi=no&alerts=no\")\n",
    "forecast_info = forecast_endpoint.json()"
   ]
  },
  {
   "cell_type": "code",
   "execution_count": 8,
   "metadata": {},
   "outputs": [
    {
     "name": "stdout",
     "output_type": "stream",
     "text": [
      "The moon is 78% visible\n"
     ]
    }
   ],
   "source": [
    "moon_visibility = [day['astro'] for day in forecast_info['forecast']['forecastday']][0]['moon_illumination']\n",
    "print(f\"The moon is {moon_visibility}% visible\")"
   ]
  },
  {
   "cell_type": "markdown",
   "metadata": {},
   "source": [
    "## 4) What's the difference between the high and low temperatures for today?\n",
    "\n",
    "- *Tip: When you requested moon data, you probably overwrote your variables! If so, you'll need to make a new request.*"
   ]
  },
  {
   "cell_type": "code",
   "execution_count": 19,
   "metadata": {},
   "outputs": [],
   "source": [
    "currentday_endpoint = requests.get(\"http://api.weatherapi.com/v1/forecast.json?key=016c7fff8afd4cd8847205826221306&q=Chennai&days=0&aqi=no&alerts=no\")\n",
    "current_day = currentday_endpoint.json()\n"
   ]
  },
  {
   "cell_type": "code",
   "execution_count": 35,
   "metadata": {},
   "outputs": [
    {
     "name": "stdout",
     "output_type": "stream",
     "text": [
      "the difference between high and low temp is, 8.6 degrees\n"
     ]
    }
   ],
   "source": [
    "max_temp_f = [day['day']['maxtemp_f'] for day in current_day['forecast']['forecastday']][0]\n",
    "min_temp_f = [day['day']['mintemp_f'] for day in current_day['forecast']['forecastday']][0]\n",
    "difference_temp = max_temp_f - min_temp_f\n",
    "\n",
    "print(f\"the difference between high and low temp is, {difference_temp:.2} degrees fahrenheit\")"
   ]
  },
  {
   "cell_type": "markdown",
   "metadata": {
    "collapsed": true
   },
   "source": [
    "## 4.5) How can you avoid the \"oh no I don't have the data any more because I made another request\" problem in the future?\n",
    "\n",
    "What variable(s) do you have to rename, and what would you rename them?"
   ]
  },
  {
   "cell_type": "markdown",
   "metadata": {},
   "source": [
    "Rename the variable used to call and convert the endpoints everytime we are calling a new endpoint "
   ]
  },
  {
   "cell_type": "markdown",
   "metadata": {},
   "source": [
    "## 5) Go through the daily forecasts, printing out the next three days' worth of predictions.\n",
    "\n",
    "I'd like to know the **high temperature** for each day, and whether it's **hot, warm, or cold** (based on what temperatures you think are hot, warm or cold).\n",
    "\n",
    "- *Tip: You'll need to use an `if` statement to say whether it is hot, warm or cold.*"
   ]
  },
  {
   "cell_type": "code",
   "execution_count": 80,
   "metadata": {},
   "outputs": [
    {
     "data": {
      "text/plain": [
       "[93.0, 94.3, 88.9]"
      ]
     },
     "execution_count": 80,
     "metadata": {},
     "output_type": "execute_result"
    }
   ],
   "source": [
    "forecast_info\n",
    "max_temp_f = [day['day']['maxtemp_f'] for day in forecast_info['forecast']['forecastday']]\n",
    "max_temp_f"
   ]
  },
  {
   "cell_type": "code",
   "execution_count": 53,
   "metadata": {},
   "outputs": [
    {
     "name": "stdout",
     "output_type": "stream",
     "text": [
      "HOT\n",
      "HOT\n",
      "HOT\n"
     ]
    }
   ],
   "source": [
    "for temp in max_temp:\n",
    "    if(temp > 75):\n",
    "        print(\"HOT\")\n",
    "    elif (temp > 55):\n",
    "        print(\"WARM\")\n",
    "    else:\n",
    "        print(\"COLD\")\n"
   ]
  },
  {
   "cell_type": "markdown",
   "metadata": {},
   "source": [
    "## 5b) The question above used to be an entire week, but not any more. Try to re-use the code above to print out seven days.\n",
    "\n",
    "What happens? Can you figure out why it doesn't work?\n",
    "\n",
    "* *Tip: it has to do with the reason you're using an API key - maybe take a look at the \"Air Quality Data\" introduction for a hint? If you can't figure it out right now, no worries.*"
   ]
  },
  {
   "cell_type": "markdown",
   "metadata": {},
   "source": [
    "Forecast for more than 3 days is behind a paywall"
   ]
  },
  {
   "cell_type": "markdown",
   "metadata": {},
   "source": [
    "## 6) What will be the hottest day in the next three days? What is the high temperature on that day?"
   ]
  },
  {
   "cell_type": "code",
   "execution_count": 93,
   "metadata": {},
   "outputs": [
    {
     "data": {
      "text/plain": [
       "'2022-06-17'"
      ]
     },
     "execution_count": 93,
     "metadata": {},
     "output_type": "execute_result"
    }
   ],
   "source": [
    "maximum_temp_day = [day['date'] for day in forecast_info['forecast']['forecastday'] if day['day']['maxtemp_f'] == max(max_temp_f)][0]\n",
    "maximum_temp_day"
   ]
  },
  {
   "cell_type": "code",
   "execution_count": 94,
   "metadata": {},
   "outputs": [
    {
     "name": "stdout",
     "output_type": "stream",
     "text": [
      "The hottest day in the next three days will be on 2022-06-17\n"
     ]
    }
   ],
   "source": [
    "print(\"The hottest day in the next three days will be on\", maximum_temp_day)"
   ]
  },
  {
   "cell_type": "markdown",
   "metadata": {},
   "source": [
    "## 7) What's the weather looking like for the next 24+ hours in Miami, Florida?\n",
    "\n",
    "I'd like to know the temperature for every hour, and if it's going to have cloud cover of more than 50% say \"{temperature} and cloudy\" instead of just the temperature. \n",
    "\n",
    "- *Tip: You'll only need one day of forecast*"
   ]
  },
  {
   "cell_type": "code",
   "execution_count": 99,
   "metadata": {},
   "outputs": [],
   "source": [
    "miami_forecast_ep = requests.get(\"http://api.weatherapi.com/v1/forecast.json?key=016c7fff8afd4cd8847205826221306&q=Miami&days=1&aqi=no&alerts=no\")\n",
    "miami_forecast = miami_forecast_ep.json()"
   ]
  },
  {
   "cell_type": "code",
   "execution_count": 168,
   "metadata": {},
   "outputs": [
    {
     "name": "stdout",
     "output_type": "stream",
     "text": [
      "00:00: 84.2\n",
      "01:00: 84.0\n",
      "02:00: 84.0\n",
      "03:00: 83.8\n",
      "04:00: 83.8\n",
      "05:00: 83.5 and cloudy\n",
      "06:00: 83.5 and cloudy\n",
      "07:00: 83.5 and cloudy\n",
      "08:00: 83.7\n",
      "09:00: 84.2\n",
      "10:00: 84.7\n",
      "11:00: 90.7\n",
      "12:00: 91.0\n",
      "13:00: 91.2\n",
      "14:00: 91.4\n",
      "15:00: 91.4\n",
      "16:00: 90.7\n",
      "17:00: 89.4\n",
      "18:00: 87.8\n",
      "19:00: 86.2\n",
      "20:00: 84.9\n",
      "21:00: 84.9\n",
      "22:00: 84.7\n",
      "23:00: 84.6\n"
     ]
    }
   ],
   "source": [
    "for hour in miami_forecast['forecast']['forecastday'][0]['hour']:\n",
    "    time = hour['time'][11:16]\n",
    "    if hour['cloud'] > 50:\n",
    "        print(f\"{time}: {hour['temp_f']} and cloudy\")\n",
    "    else:\n",
    "        print(f\"{time}: {hour['temp_f']}\")"
   ]
  },
  {
   "cell_type": "markdown",
   "metadata": {},
   "source": [
    "## 8) For the next 24-ish hours in Miami, what percent of the time is the temperature above 85 degrees?\n",
    "\n",
    "- *Tip: You might want to read up on [looping patterns](http://jonathansoma.com/lede/foundations-2017/classes/data%20structures/looping-patterns/)*"
   ]
  },
  {
   "cell_type": "code",
   "execution_count": 177,
   "metadata": {},
   "outputs": [
    {
     "name": "stdout",
     "output_type": "stream",
     "text": [
      "For the next 24-ish hours in Miami, 37.5% of the time is the temperature above 85 degrees\n"
     ]
    }
   ],
   "source": [
    "hour_count = 0\n",
    "for hour in miami_forecast['forecast']['forecastday'][0]['hour']:\n",
    "    if hour['temp_f'] > 85:\n",
    "        hour_count += 1\n",
    "percent_over85 = hour_count/24 * 100\n",
    "\n",
    "print(f\"For the next 24-ish hours in Miami, {percent_over85}% of the time is the temperature above 85 degrees\")"
   ]
  },
  {
   "cell_type": "markdown",
   "metadata": {},
   "source": [
    "## 9) How much will it cost if you need to use 1,500,000 API calls?\n",
    "\n",
    "You are only allowed 1,000,000 API calls each month. If you were really bad at this homework or made some awful loops, WeatherAPI might shut down your free access. \n",
    "\n",
    "* *Tip: this involves looking somewhere that isn't the normal documentation.*"
   ]
  },
  {
   "cell_type": "markdown",
   "metadata": {},
   "source": [
    "$4 a month"
   ]
  },
  {
   "cell_type": "markdown",
   "metadata": {},
   "source": [
    "## 10) You're too poor to spend more money! What else could you do instead of give them money?\n",
    "\n",
    "* *Tip: I'm not endorsing being sneaky, but newsrooms and students are both generally poverty-stricken.*"
   ]
  },
  {
   "cell_type": "markdown",
   "metadata": {},
   "source": [
    "You can copy the data from the api to a dataset and query from the dataset that refreshes in a certain cadence instead of calling the api each time you need the data"
   ]
  }
 ],
 "metadata": {
  "kernelspec": {
   "display_name": "Python 3 (ipykernel)",
   "language": "python",
   "name": "python3"
  },
  "language_info": {
   "codemirror_mode": {
    "name": "ipython",
    "version": 3
   },
   "file_extension": ".py",
   "mimetype": "text/x-python",
   "name": "python",
   "nbconvert_exporter": "python",
   "pygments_lexer": "ipython3",
   "version": "3.10.3"
  }
 },
 "nbformat": 4,
 "nbformat_minor": 1
}
